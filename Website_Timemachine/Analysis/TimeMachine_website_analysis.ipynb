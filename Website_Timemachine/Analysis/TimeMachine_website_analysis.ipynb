{
 "cells": [
  {
   "cell_type": "markdown",
   "id": "f5e756b9",
   "metadata": {},
   "source": [
    "# Overview\n",
    "\n",
    "Analyzing `result_stats_20221129.json`"
   ]
  },
  {
   "cell_type": "code",
   "execution_count": 1,
   "id": "fe966eb4",
   "metadata": {},
   "outputs": [
    {
     "name": "stdout",
     "output_type": "stream",
     "text": [
      "Total url: 13382\n",
      "Success: 5781 Ratio: 0.431998\n",
      "Failure: 7601 Ratio: 0.568002\n"
     ]
    }
   ],
   "source": [
    "import json\n",
    "\n",
    "f = open('result_stats.json', 'r')\n",
    "lines = f.readlines()\n",
    "\n",
    "results = []\n",
    "for line in lines:\n",
    "    results.append(json.loads(line))\n",
    "    \n",
    "total_num = len(results)\n",
    "success_num = 0\n",
    "failure_num = 0\n",
    "for result in results:\n",
    "    if result['is_success'] == True:\n",
    "        success_num += 1\n",
    "    else:\n",
    "        failure_num += 1\n",
    "\n",
    "print(\"Total url: %d\" % total_num)\n",
    "print(\"Success: %d Ratio: %f\" % (success_num, success_num/total_num))\n",
    "print(\"Failure: %d Ratio: %f\" % (failure_num, failure_num/total_num))"
   ]
  },
  {
   "cell_type": "markdown",
   "id": "133f859f",
   "metadata": {},
   "source": [
    "Since for each domain TimeMachine generates two urls (http://domain and https://domain) for screening, as long as one url succeeds we think this domain is processed successfully."
   ]
  },
  {
   "cell_type": "code",
   "execution_count": 2,
   "id": "f6f5ca36",
   "metadata": {},
   "outputs": [
    {
     "name": "stdout",
     "output_type": "stream",
     "text": [
      "Total domain: 6691\n",
      "Success: 3677 Ratio: 0.549544\n",
      "Failure: 3014 Ratio: 0.450456\n"
     ]
    }
   ],
   "source": [
    "sorted_results = sorted(results, key=lambda keys: keys.get(\"domain\"))\n",
    "total_domain_num = len(sorted_results) / 2\n",
    "success_domain_num = 0\n",
    "failure_domain_num = 0\n",
    "for i in range(int(total_domain_num)):\n",
    "    http_result = sorted_results[2*i]\n",
    "    https_result = sorted_results[2*i+1]\n",
    "    if (http_result['is_success'] | https_result['is_success']) == True:\n",
    "        success_domain_num += 1\n",
    "    else:\n",
    "        failure_domain_num += 1\n",
    "        \n",
    "print(\"Total domain: %d\" % total_domain_num)\n",
    "print(\"Success: %d Ratio: %f\" % (success_domain_num, success_domain_num/total_domain_num))\n",
    "print(\"Failure: %d Ratio: %f\" % (failure_domain_num, failure_domain_num/total_domain_num))"
   ]
  },
  {
   "cell_type": "markdown",
   "id": "d16b9f07",
   "metadata": {},
   "source": [
    "The following are error types and counts."
   ]
  },
  {
   "cell_type": "code",
   "execution_count": 3,
   "id": "fef1d564",
   "metadata": {},
   "outputs": [
    {
     "name": "stdout",
     "output_type": "stream",
     "text": [
      "Got exception <class 'playwright._impl._api_types.TimeoutError'>: Timeout 10000ms exceeded.\n",
      "Total: 5679\tRatio: 0.747139\n",
      "Got exception <class 'playwright._impl._api_types.Error'>: NS_ERROR_CONNECTION_REFUSED\n",
      "Total: 772\tRatio: 0.101566\n",
      "Got exception <class 'playwright._impl._api_types.Error'>: SSL_ERROR_BAD_CERT_DOMAIN\n",
      "Total: 369\tRatio: 0.048546\n",
      "Got exception <class 'playwright._impl._api_types.Error'>: SSL_ERROR_UNKNOWN\n",
      "Total: 207\tRatio: 0.027233\n",
      "Got exception <class 'playwright._impl._api_types.Error'>: NS_ERROR_NET_RESET\n",
      "Total: 196\tRatio: 0.025786\n",
      "Got exception <class 'playwright._impl._api_types.Error'>: NS_ERROR_NET_INTERRUPT\n",
      "Total: 155\tRatio: 0.020392\n",
      "Got exception <class 'playwright._impl._api_types.Error'>: NS_ERROR_UNKNOWN_HOST\n",
      "Total: 78\tRatio: 0.010262\n",
      "Got exception <class 'playwright._impl._api_types.Error'>: SEC_ERROR_UNKNOWN_ISSUER\n",
      "Total: 74\tRatio: 0.009736\n",
      "Got exception <class 'playwright._impl._api_types.Error'>: SEC_ERROR_EXPIRED_CERTIFICATE\n",
      "Total: 32\tRatio: 0.004210\n",
      "Got exception <class 'playwright._impl._api_types.Error'>: SEC_ERROR_UNKNOWN\n",
      "Total: 12\tRatio: 0.001579\n",
      "Got exception <class 'playwright._impl._api_types.Error'>: NS_ERROR_REDIRECT_LOOP\n",
      "Total: 12\tRatio: 0.001579\n",
      "Got exception <class 'playwright._impl._api_types.Error'>: SSL_ERROR_UNSUPPORTED_VERSION\n",
      "Total: 6\tRatio: 0.000789\n",
      "Got exception <class 'playwright._impl._api_types.Error'>: Target closed\n",
      "Total: 2\tRatio: 0.000263\n",
      "Got exception <class 'playwright._impl._api_types.Error'>: Download is starting\n",
      "Total: 2\tRatio: 0.000263\n",
      "Got exception <class 'playwright._impl._api_types.Error'>: <unknown error>\n",
      "Total: 1\tRatio: 0.000132\n",
      "Got exception <class 'asyncio.exceptions.TimeoutError'>:  when visiting page http://www.jwview.com\n",
      "Total: 1\tRatio: 0.000132\n",
      "Got exception <class 'asyncio.exceptions.TimeoutError'>:  when visiting page https://www.jwview.com\n",
      "Total: 1\tRatio: 0.000132\n",
      "Got exception <class 'playwright._impl._api_types.Error'>: NS_ERROR_ABORT\n",
      "Total: 1\tRatio: 0.000132\n",
      "Got exception <class 'playwright._impl._api_types.Error'>: NS_BINDING_ABORTED\n",
      "Total: 1\tRatio: 0.000132\n"
     ]
    }
   ],
   "source": [
    "err_msgs = {}\n",
    "for result in results:\n",
    "    if result['is_success'] == False:\n",
    "        err_msg = result['err_message'].split('\\n')[0]\n",
    "        err_msgs[err_msg] = err_msgs.get(err_msg, 0) + 1\n",
    "\n",
    "err_msgs = sorted(err_msgs.items(), key=lambda x:x[1], reverse=True)\n",
    "for err_msg in err_msgs:\n",
    "    print(\"%s\\nTotal: %d\\tRatio: %f\" %(err_msg[0],err_msg[1], err_msg[1]/failure_num))"
   ]
  },
  {
   "cell_type": "markdown",
   "id": "c46d02b6",
   "metadata": {},
   "source": [
    "# TimeoutError\n",
    "\n",
    "Retry 100 urls of the following, 31 successes and 69 failures, which means the randomness\n",
    "\n",
    "After **lengthening the default timeout**, 49 successes and 51 failures\n",
    "\n",
    "After **using proxy**, that error message disappers, 66 successes and 34 failures"
   ]
  },
  {
   "cell_type": "code",
   "execution_count": null,
   "id": "b0a06bb6",
   "metadata": {},
   "outputs": [],
   "source": [
    "timeouterror_urls = []\n",
    "for result in results:\n",
    "    if \"Got exception <class 'playwright._impl._api_types.TimeoutError'>: Timeout 10000ms exceeded.\" in result['err_message']:\n",
    "        timeouterror_urls.append(result['result_basedir'].replace('_', '://'))\n",
    "for url in timeouterror_urls:\n",
    "    print(url)"
   ]
  },
  {
   "cell_type": "markdown",
   "id": "6b211d13",
   "metadata": {},
   "source": [
    "# NS_ERROR_CONNECTION_REFUSED\n",
    "\n",
    "Retry 100 urls from the following\n",
    "\n",
    "After **using proxy**, this error message disappears, 22 successes and 78 failures\n",
    "\n",
    "But new error messages `Got exception <class 'playwright._impl._api_types.Error'>: NS_ERROR_NET_INTERRUPT` appears 70 times\n",
    "\n",
    "`Got exception <class 'playwright._impl._api_types.Error'>: NS_ERROR_NET_RESET` appears 6 times\n"
   ]
  },
  {
   "cell_type": "code",
   "execution_count": null,
   "id": "62d9f5ad",
   "metadata": {},
   "outputs": [],
   "source": [
    "connectionrefused_urls = []\n",
    "for result in results:\n",
    "    if \"Got exception <class 'playwright._impl._api_types.Error'>: NS_ERROR_CONNECTION_REFUSED\" in result['err_message']:\n",
    "        connectionrefused_urls.append(result['result_basedir'].replace('_', '://'))\n",
    "for url in connectionrefused_urls:\n",
    "    print(url)"
   ]
  },
  {
   "cell_type": "markdown",
   "id": "92d9efcf",
   "metadata": {},
   "source": [
    "# SSL_ERROR_BAD_CERT_DOMAIN\n",
    "\n",
    "Retry 100 urls from the following\n",
    "\n",
    "After **editing playwright's context options** `ignoreHTTPSErrors = True`, this error message diappears, 85 successes and 15 failures\n"
   ]
  },
  {
   "cell_type": "code",
   "execution_count": null,
   "id": "c516942a",
   "metadata": {},
   "outputs": [],
   "source": [
    "badcertdomain_urls = []\n",
    "for result in results: \n",
    "    if \"Got exception <class 'playwright._impl._api_types.Error'>: SSL_ERROR_BAD_CERT_DOMAIN\" in result['err_message']:\n",
    "        badcertdomain_urls.append(result['result_basedir'].replace('_', '://'))\n",
    "for url in badcertdomain_urls:\n",
    "    print(url)"
   ]
  },
  {
   "cell_type": "markdown",
   "id": "ca67ffad",
   "metadata": {},
   "source": [
    "# SSL_ERROR_UNKNOWN\n",
    "\n",
    "Retry 100 urls of the following\n",
    "\n",
    "After **editing playwright's context options** `ignoreHTTPSErrors = True`, 55 successes and 45 failures\n",
    "\n",
    "When using chromium as playwright's browser, the error messages are more explicit, including `ERR_SSL_PROTOCOL_ERROR`, `ERR_SSL_VERSION_OR_CIPHER_MISMATCH`, `ERR_SSL_UNRECOGNIZED_NAME_ALERT`. \n",
    "\n",
    "Checking some failed urls manully with [Website Planet](https://www.websiteplanet.com/webtools/down-or-not/), all of them are DOWN across the globe. So I guess there's something wrong with these websites' SSL certification, then causing error.\n"
   ]
  },
  {
   "cell_type": "code",
   "execution_count": null,
   "id": "26a729dd",
   "metadata": {},
   "outputs": [],
   "source": [
    "sslunknown_urls = []\n",
    "for result in results: \n",
    "    if \"Got exception <class 'playwright._impl._api_types.Error'>: SSL_ERROR_UNKNOWN\" in result['err_message']:\n",
    "        sslunknown_urls.append(result['result_basedir'].replace('_', '://'))\n",
    "for url in sslunknown_urls:\n",
    "    print(url)"
   ]
  },
  {
   "cell_type": "markdown",
   "id": "368538f3",
   "metadata": {},
   "source": [
    "# NS_ERROR_NET_RESET\n",
    "\n",
    "Retry 100 urls of the following, this error message disappears, 73 successes and 27 failures"
   ]
  },
  {
   "cell_type": "code",
   "execution_count": null,
   "id": "f113b06c",
   "metadata": {},
   "outputs": [],
   "source": [
    "netreset_urls = []\n",
    "for result in results:\n",
    "    if \"Got exception <class 'playwright._impl._api_types.Error'>: NS_ERROR_NET_RESET\" in result['err_message']:\n",
    "        netreset_urls.append(result['result_basedir'].replace('_', '://'))\n",
    "for url in netreset_urls:\n",
    "    print(url)"
   ]
  },
  {
   "cell_type": "markdown",
   "id": "b7784091",
   "metadata": {},
   "source": [
    "# NS_ERROR_NET_INTERRUPT\n",
    "\n",
    "Retry 100 urls of the following, 4 successes and 96 failures\n",
    "\n",
    "\n",
    "Checking 20 urls manully with [Website Planet](https://www.websiteplanet.com/webtools/down-or-not/), all of them are DOWN across the globe. So I guess these error messages are caused by the website itself."
   ]
  },
  {
   "cell_type": "code",
   "execution_count": null,
   "id": "e5c79876",
   "metadata": {},
   "outputs": [],
   "source": [
    "netinterrupt_urls = []\n",
    "for result in results:\n",
    "    if \"Got exception <class 'playwright._impl._api_types.Error'>: NS_ERROR_NET_INTERRUPT\" in result['err_message']:\n",
    "        netinterrupt_urls.append(result['result_basedir'].replace('_', '://'))\n",
    "for url in netinterrupt_urls:\n",
    "    print(url)"
   ]
  }
 ],
 "metadata": {
  "kernelspec": {
   "display_name": "Python 3.10.4 64-bit",
   "language": "python",
   "name": "python3"
  },
  "language_info": {
   "codemirror_mode": {
    "name": "ipython",
    "version": 3
   },
   "file_extension": ".py",
   "mimetype": "text/x-python",
   "name": "python",
   "nbconvert_exporter": "python",
   "pygments_lexer": "ipython3",
   "version": "3.10.4"
  },
  "vscode": {
   "interpreter": {
    "hash": "2469a70536e4d2335a2ea8907942d0699c37342a371ac185bdb5b0aa6f073890"
   }
  }
 },
 "nbformat": 4,
 "nbformat_minor": 5
}
